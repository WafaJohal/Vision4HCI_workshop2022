{
 "cells": [
  {
   "cell_type": "markdown",
   "id": "d6c24537",
   "metadata": {},
   "source": [
    "# Part 1 Getting Familiar with OpenCV and MediaPipe\n",
    "\n",
    "The first part is to get familiar with OpenCV and mediapipe.\n",
    "In this part, you will learn how to read and display images and use mediapipe to detect hands on the images.\n",
    "\n",
    "## 1.1 Loading an Image and Displaying it using OpenCV\n",
    "\n",
    "Take a picture of yourself with a thumbup\n",
    "We will be using this image to get familiar with the hand detection using mediapipe\n",
    "\n",
    "Use the code below to read and display the image using OpenCV. \n",
    "OpenCV is a big library, and you can find documentation here: \n",
    "https://opencv.org/\n",
    "\n",
    " \n",
    "```python\n",
    "import cv2\n",
    "\n",
    "image = cv2.imread(\"thumbup.jpeg\")\n",
    "cv2.imshow(\"Image\", image)\n",
    "cv2.waitKey(0)\n",
    "cv2.destroyAllWindows()\n",
    "cv2.waitKey(1) # normally unnecessary, but it fixes a bug on MacOS where the window doesn't close view\n",
    "\n",
    "```"
   ]
  }
 ],
 "metadata": {
  "jupytext": {
   "cell_metadata_filter": "-all",
   "formats": "md:myst",
   "text_representation": {
    "extension": ".md",
    "format_name": "myst",
    "format_version": 0.13,
    "jupytext_version": "1.11.5"
   }
  },
  "kernelspec": {
   "display_name": "Python 3",
   "language": "python",
   "name": "python3"
  },
  "language_info": {
   "codemirror_mode": {
    "name": "ipython",
    "version": 3
   },
   "file_extension": ".py",
   "mimetype": "text/x-python",
   "name": "python",
   "nbconvert_exporter": "python",
   "pygments_lexer": "ipython3",
   "version": "3.9.10"
  },
  "source_map": [
   14
  ]
 },
 "nbformat": 4,
 "nbformat_minor": 5
}